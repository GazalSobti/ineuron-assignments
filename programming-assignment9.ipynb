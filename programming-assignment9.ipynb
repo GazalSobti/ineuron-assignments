{
 "cells": [
  {
   "cell_type": "markdown",
   "id": "c2bd1dba",
   "metadata": {},
   "source": [
    "#### 1. Write a Python program to check if the given number is a Disarium Number?"
   ]
  },
  {
   "cell_type": "code",
   "execution_count": 3,
   "id": "e0da975d",
   "metadata": {},
   "outputs": [
    {
     "name": "stdout",
     "output_type": "stream",
     "text": [
      "175\n",
      "175 is not a disarium number\n"
     ]
    }
   ],
   "source": [
    "def length(n):\n",
    "    l=0\n",
    "    while(n!=0):\n",
    "        n//=10\n",
    "        l+=1\n",
    "    return l    \n",
    "num=int(input())\n",
    "rem=0\n",
    "s=0\n",
    "n=num\n",
    "l=length(num)\n",
    "while(num > 0):    \n",
    "    rem = num%10;    \n",
    "    s = s + int(rem**l)   \n",
    "    num = num//10   \n",
    "    l = l - 1   \n",
    "if(s == n):    \n",
    "    print(str(n) + \" is a disarium number\")   \n",
    "else:    \n",
    "    print(str(n) + \" is not a disarium number\")  \n",
    "    "
   ]
  },
  {
   "cell_type": "markdown",
   "id": "d93b3dfa",
   "metadata": {},
   "source": [
    "#### 2. Write a Python program to print all disarium numbers between 1 to 100?"
   ]
  },
  {
   "cell_type": "code",
   "execution_count": 4,
   "id": "929a0fe9",
   "metadata": {},
   "outputs": [
    {
     "name": "stdout",
     "output_type": "stream",
     "text": [
      "1 is a disarium number\n",
      "2 is a disarium number\n",
      "3 is a disarium number\n",
      "4 is a disarium number\n",
      "5 is a disarium number\n",
      "6 is a disarium number\n",
      "7 is a disarium number\n",
      "8 is a disarium number\n",
      "9 is a disarium number\n",
      "89 is a disarium number\n"
     ]
    }
   ],
   "source": [
    "def length(n):\n",
    "    l=0\n",
    "    while(n!=0):\n",
    "        n//=10\n",
    "        l+=1\n",
    "    return l    \n",
    "for num in range(1,100):\n",
    "    rem=0\n",
    "    s=0\n",
    "    n=num\n",
    "    l=length(num)\n",
    "    while(num > 0):    \n",
    "        rem = num%10;    \n",
    "        s = s + int(rem**l)   \n",
    "        num = num//10   \n",
    "        l = l - 1   \n",
    "    if(s == n):    \n",
    "        print(str(n) + \" is a disarium number\")   "
   ]
  },
  {
   "cell_type": "markdown",
   "id": "dd022b85",
   "metadata": {},
   "source": [
    "#### 3. Write a Python program to check if the given number is Happy Number?"
   ]
  },
  {
   "cell_type": "code",
   "execution_count": 2,
   "id": "35042825",
   "metadata": {},
   "outputs": [
    {
     "name": "stdout",
     "output_type": "stream",
     "text": [
      "82 is a happy number\n"
     ]
    }
   ],
   "source": [
    "def isHappyNumber(num):    \n",
    "    rem = sum = 0      \n",
    "    while(num > 0):    \n",
    "        rem = num%10   \n",
    "        sum = sum + (rem*rem)    \n",
    "        num = num//10    \n",
    "    return sum   \n",
    "        \n",
    "num = 82    \n",
    "result = num;    \n",
    "     \n",
    "while(result != 1 and result != 4):    \n",
    "    result = isHappyNumber(result)    \n",
    "if(result == 1):    \n",
    "    print(str(num) + \" is a happy number\")    \n",
    "elif(result == 4):    \n",
    "    print(str(num) + \" is not a happy number\")   "
   ]
  },
  {
   "cell_type": "markdown",
   "id": "438ac128",
   "metadata": {},
   "source": [
    "#### 4. Write a Python program to print all happy numbers between 1 and 100?"
   ]
  },
  {
   "cell_type": "code",
   "execution_count": 3,
   "id": "5d69d82c",
   "metadata": {},
   "outputs": [
    {
     "name": "stdout",
     "output_type": "stream",
     "text": [
      "7 is a happy number\n",
      "10 is a happy number\n",
      "13 is a happy number\n",
      "19 is a happy number\n",
      "23 is a happy number\n",
      "28 is a happy number\n",
      "31 is a happy number\n",
      "32 is a happy number\n",
      "44 is a happy number\n",
      "49 is a happy number\n",
      "68 is a happy number\n",
      "70 is a happy number\n",
      "79 is a happy number\n",
      "82 is a happy number\n",
      "86 is a happy number\n",
      "91 is a happy number\n",
      "94 is a happy number\n",
      "97 is a happy number\n"
     ]
    }
   ],
   "source": [
    "for num in range(1,100):\n",
    "    \n",
    "    def isHappyNumber(num):    \n",
    "        rem = sum = 0      \n",
    "        while(num > 0):    \n",
    "            rem = num%10   \n",
    "            sum = sum + (rem*rem)    \n",
    "            num = num//10    \n",
    "        return sum   \n",
    "          \n",
    "    result = num;    \n",
    "     \n",
    "    while(result != 1 and result != 4):    \n",
    "        result = isHappyNumber(result)    \n",
    "        if(result == 1):    \n",
    "            print(str(num) + \" is a happy number\")    \n",
    "        elif(result == 4):    \n",
    "            pass   "
   ]
  },
  {
   "cell_type": "markdown",
   "id": "8fa004c6",
   "metadata": {},
   "source": [
    "#### 5. Write a Python program to determine whether the given number is a Harshad Number?"
   ]
  },
  {
   "cell_type": "code",
   "execution_count": 4,
   "id": "cad6a1c3",
   "metadata": {},
   "outputs": [
    {
     "name": "stdout",
     "output_type": "stream",
     "text": [
      "Enter the Number to Check Harshad Number = 156\n",
      "The Sum of the Digits = 12\n",
      "\n",
      "156 is a Harshad Number.\n"
     ]
    }
   ],
   "source": [
    "Number = int(input(\"Enter the Number to Check Harshad Number = \"))\n",
    "Sum = 0\n",
    "rem = 0\n",
    "Temp = Number\n",
    "while Temp > 0:\n",
    "    rem = Temp % 10\n",
    "    Sum = Sum + rem\n",
    "    Temp = Temp // 10\n",
    "print(\"The Sum of the Digits = %d\" %Sum)\n",
    "if Number % Sum == 0:\n",
    "    print(\"\\n%d is a Harshad Number.\" %Number)\n",
    "else:\n",
    "    print(\"%d is Not a Harshad Number.\" %Number)"
   ]
  },
  {
   "cell_type": "markdown",
   "id": "7aea062f",
   "metadata": {},
   "source": [
    "#### 6. Write a Python program to print all pronic numbers between 1 and 100?"
   ]
  },
  {
   "cell_type": "code",
   "execution_count": 6,
   "id": "b6e29e8a",
   "metadata": {},
   "outputs": [
    {
     "name": "stdout",
     "output_type": "stream",
     "text": [
      "2 is pronic\n",
      "6 is pronic\n",
      "12 is pronic\n",
      "20 is pronic\n",
      "30 is pronic\n",
      "42 is pronic\n",
      "56 is pronic\n",
      "72 is pronic\n",
      "90 is pronic\n"
     ]
    }
   ],
   "source": [
    "\n",
    "for num in range(1,100):\n",
    "    flag=0\n",
    "    for i in range(num):\n",
    "        if (i*(i+1))==num:\n",
    "            flag=1\n",
    "            break\n",
    "        else:\n",
    "            flag=0\n",
    "            pass\n",
    "    if flag==1:\n",
    "        print(str(num)+\" is pronic\")\n",
    "    \n",
    "        "
   ]
  }
 ],
 "metadata": {
  "kernelspec": {
   "display_name": "Python 3 (ipykernel)",
   "language": "python",
   "name": "python3"
  },
  "language_info": {
   "codemirror_mode": {
    "name": "ipython",
    "version": 3
   },
   "file_extension": ".py",
   "mimetype": "text/x-python",
   "name": "python",
   "nbconvert_exporter": "python",
   "pygments_lexer": "ipython3",
   "version": "3.10.1"
  }
 },
 "nbformat": 4,
 "nbformat_minor": 5
}
