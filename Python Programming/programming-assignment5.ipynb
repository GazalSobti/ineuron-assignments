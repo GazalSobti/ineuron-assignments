{
 "cells": [
  {
   "cell_type": "markdown",
   "id": "242d799c",
   "metadata": {},
   "source": [
    "#### 1. Write a Python Program to Find LCM?"
   ]
  },
  {
   "cell_type": "code",
   "execution_count": 1,
   "id": "961676dd",
   "metadata": {},
   "outputs": [
    {
     "name": "stdout",
     "output_type": "stream",
     "text": [
      "5\n",
      "9\n",
      "The L.C.M. is 45\n"
     ]
    }
   ],
   "source": [
    "def compute_lcm(x, y):\n",
    "    if x > y:\n",
    "        greater = x\n",
    "    else:\n",
    "        greater = y\n",
    "\n",
    "    while(True):\n",
    "        if((greater % x == 0) and (greater % y == 0)):\n",
    "            lcm = greater\n",
    "            break\n",
    "        greater += 1\n",
    "\n",
    "    return lcm\n",
    "\n",
    "num1 = int (input())\n",
    "num2 = int(input())\n",
    "\n",
    "print(\"The L.C.M. is\", compute_lcm(num1, num2))"
   ]
  },
  {
   "cell_type": "markdown",
   "id": "2634bd50",
   "metadata": {},
   "source": [
    "#### 2. Write a Python Program to Find HCF?"
   ]
  },
  {
   "cell_type": "code",
   "execution_count": 3,
   "id": "03fca602",
   "metadata": {},
   "outputs": [
    {
     "name": "stdout",
     "output_type": "stream",
     "text": [
      "45\n",
      "9\n",
      "The H.C.F is 9\n"
     ]
    }
   ],
   "source": [
    " \n",
    "def hcf(x, y):\n",
    "    while(y):\n",
    "        x, y = y, x % y\n",
    "    return x\n",
    "\n",
    "num1 = int (input())\n",
    "num2 = int(input())\n",
    "print(\"The H.C.F is\", hcf(num1, num2))"
   ]
  },
  {
   "cell_type": "markdown",
   "id": "47117bf6",
   "metadata": {},
   "source": [
    "#### 3. Write a Python Program to Convert Decimal to Binary, Octal and Hexadecimal?"
   ]
  },
  {
   "cell_type": "code",
   "execution_count": 4,
   "id": "e88e48f9",
   "metadata": {},
   "outputs": [
    {
     "name": "stdout",
     "output_type": "stream",
     "text": [
      "46\n",
      "The decimal value of 46 is:\n",
      "0b101110 in binary.\n",
      "0o56 in octal.\n",
      "0x2e in hexadecimal.\n"
     ]
    }
   ],
   "source": [
    "dec = int(input())\n",
    "print(\"The decimal value of\", dec, \"is:\")\n",
    "print(bin(dec), \"in binary.\")\n",
    "print(oct(dec), \"in octal.\")\n",
    "print(hex(dec), \"in hexadecimal.\")"
   ]
  },
  {
   "cell_type": "markdown",
   "id": "c4b8d6e7",
   "metadata": {},
   "source": [
    "#### 4. Write a Python Program To Find ASCII value of a character?"
   ]
  },
  {
   "cell_type": "code",
   "execution_count": 8,
   "id": "7fb82791",
   "metadata": {},
   "outputs": [
    {
     "name": "stdout",
     "output_type": "stream",
     "text": [
      "t\n",
      "The ASCII value of 't' is 116\n"
     ]
    }
   ],
   "source": [
    "c = str(input())\n",
    "print(\"The ASCII value of '\" + c + \"' is\", ord(c))\n",
    "\n"
   ]
  },
  {
   "cell_type": "markdown",
   "id": "adbc7563",
   "metadata": {},
   "source": [
    "#### 5. Write a Python Program to Make a Simple Calculator with 4 basic mathematical operations?"
   ]
  },
  {
   "cell_type": "code",
   "execution_count": 17,
   "id": "dd5c44c0",
   "metadata": {},
   "outputs": [
    {
     "name": "stdout",
     "output_type": "stream",
     "text": [
      "4\n",
      "6\n",
      "1.add\n",
      "2.sub\n",
      "3.mul\n",
      "4.div\n",
      "enter choice1\n",
      "10\n",
      "wanna add another choice(y/n)\n",
      "y\n",
      "7\n",
      "9\n",
      "1.add\n",
      "2.sub\n",
      "3.mul\n",
      "4.div\n",
      "enter choice2\n",
      "-2\n",
      "wanna add another choice(y/n)\n",
      "y\n",
      "8\n",
      "2\n",
      "1.add\n",
      "2.sub\n",
      "3.mul\n",
      "4.div\n",
      "enter choice3\n",
      "16\n",
      "wanna add another choice(y/n)\n",
      "y\n",
      "8\n",
      "2\n",
      "1.add\n",
      "2.sub\n",
      "3.mul\n",
      "4.div\n",
      "enter choice4\n",
      "4.0\n",
      "wanna add another choice(y/n)\n",
      "n\n"
     ]
    }
   ],
   "source": [
    "t='y'\n",
    "while(t=='y' or t=='Y') :\n",
    "    a = int (input())\n",
    "    b = int(input())\n",
    "    print(\"1.add\")\n",
    "    print(\"2.sub\")\n",
    "    print(\"3.mul\")\n",
    "    print(\"4.div\")\n",
    "    c=int(input(\"enter choice\"))\n",
    "    if c==1:\n",
    "        print(a+b)\n",
    "    elif c==2:\n",
    "        print(a-b)\n",
    "    elif c==3:\n",
    "        print(a*b)\n",
    "    elif c==4:\n",
    "        print(a/b)\n",
    "    else:\n",
    "        print(\"wrong choice\")\n",
    "    print(\"wanna add another choice(y/n)\")\n",
    "    t=str(input()) \n",
    "    "
   ]
  }
 ],
 "metadata": {
  "kernelspec": {
   "display_name": "Python 3 (ipykernel)",
   "language": "python",
   "name": "python3"
  },
  "language_info": {
   "codemirror_mode": {
    "name": "ipython",
    "version": 3
   },
   "file_extension": ".py",
   "mimetype": "text/x-python",
   "name": "python",
   "nbconvert_exporter": "python",
   "pygments_lexer": "ipython3",
   "version": "3.10.1"
  }
 },
 "nbformat": 4,
 "nbformat_minor": 5
}
