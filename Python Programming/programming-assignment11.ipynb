{
 "cells": [
  {
   "cell_type": "markdown",
   "id": "93869cc4",
   "metadata": {},
   "source": [
    "#### 1. Write a Python program to find words which are greater than given length k?"
   ]
  },
  {
   "cell_type": "code",
   "execution_count": 4,
   "id": "8822a03f",
   "metadata": {},
   "outputs": [
    {
     "name": "stdout",
     "output_type": "stream",
     "text": [
      "Python\n",
      "good\n"
     ]
    }
   ],
   "source": [
    "k = 3\n",
    "s =\"Python is good\"\n",
    "word = s.split(\" \")\n",
    "for x in word:\n",
    "     if len(x)>k:\n",
    "            print(x)"
   ]
  },
  {
   "cell_type": "markdown",
   "id": "aa0bddf6",
   "metadata": {},
   "source": [
    "#### 2. Write a Python program for removing i-th character from a string?"
   ]
  },
  {
   "cell_type": "code",
   "execution_count": 9,
   "id": "3ccac5e3",
   "metadata": {},
   "outputs": [
    {
     "name": "stdout",
     "output_type": "stream",
     "text": [
      "Pythn is good\n"
     ]
    }
   ],
   "source": [
    "s =\"Python is good\"\n",
    "i=4\n",
    "r = s.replace(s[i], \"\", 1)\n",
    "print(r)"
   ]
  },
  {
   "cell_type": "markdown",
   "id": "20f843e6",
   "metadata": {},
   "source": [
    "#### 3. Write a Python program to split and join a string?"
   ]
  },
  {
   "cell_type": "code",
   "execution_count": 14,
   "id": "22f344be",
   "metadata": {},
   "outputs": [
    {
     "name": "stdout",
     "output_type": "stream",
     "text": [
      "['Python', 'is', 'good']\n",
      "Python_is_good\n"
     ]
    }
   ],
   "source": [
    "s =\"Python is good\"\n",
    "t=s.split(\" \")\n",
    "print(t)\n",
    "k=('_').join(t)\n",
    "print(k)"
   ]
  },
  {
   "cell_type": "markdown",
   "id": "3a5f40bd",
   "metadata": {},
   "source": [
    "#### 4. Write a Python to check if a given string is binary string or not?"
   ]
  },
  {
   "cell_type": "code",
   "execution_count": 19,
   "id": "7d127591",
   "metadata": {},
   "outputs": [
    {
     "name": "stdout",
     "output_type": "stream",
     "text": [
      "Yes\n"
     ]
    }
   ],
   "source": [
    "t=\"010110\"\n",
    "\n",
    "p=set(t)\n",
    "s = {'0', '1'}    \n",
    "if s == p or p == {'0'} or p == {'1'}:\n",
    "        print(\"Yes\")\n",
    "else:\n",
    "        print(\"No\")\n",
    " "
   ]
  },
  {
   "cell_type": "markdown",
   "id": "062d5814",
   "metadata": {},
   "source": [
    "#### 5. Write a Python program to find uncommon words from two Strings?"
   ]
  },
  {
   "cell_type": "code",
   "execution_count": 29,
   "id": "887ba392",
   "metadata": {},
   "outputs": [
    {
     "name": "stdout",
     "output_type": "stream",
     "text": [
      "['is', 'myself', 'my', 'name']\n"
     ]
    }
   ],
   "source": [
    "def uncommon(s1,s2):\n",
    "    s1=s1.split()\n",
    "    s2=s2.split()\n",
    "    k=set(s1).symmetric_difference(set(s2))\n",
    "    return k\n",
    "\n",
    "a=\"myself gazal\"\n",
    "b=\"my name is gazal\"\n",
    "print(list(uncommon(a,b)))"
   ]
  },
  {
   "cell_type": "code",
   "execution_count": null,
   "id": "0ac2ea17",
   "metadata": {},
   "outputs": [],
   "source": [
    "6. Write a Python to find all duplicate characters in string?"
   ]
  },
  {
   "cell_type": "code",
   "execution_count": 36,
   "id": "b6afe373",
   "metadata": {},
   "outputs": [
    {
     "name": "stdout",
     "output_type": "stream",
     "text": [
      "['h', 'y', 'o']\n"
     ]
    }
   ],
   "source": [
    "string = \"hhhdhvyuopytrow\"\n",
    "duplicates = []\n",
    "for char in string:\n",
    "    if string.count(char) > 1:\n",
    "         if char not in duplicates:\n",
    "                duplicates.append(char)\n",
    "print(duplicates)"
   ]
  },
  {
   "cell_type": "markdown",
   "id": "83d713d6",
   "metadata": {},
   "source": [
    "#### 7. Write a Python Program to check if a string contains any special character?"
   ]
  },
  {
   "cell_type": "code",
   "execution_count": 37,
   "id": "53e27d7e",
   "metadata": {},
   "outputs": [
    {
     "name": "stdout",
     "output_type": "stream",
     "text": [
      "Hello15\n",
      "string is accepted\n"
     ]
    }
   ],
   "source": [
    "import re\n",
    "\n",
    "def find(string):\n",
    "    special_char=re.compile('[@_!$%^&*()<>?/\\|}{~:]#')\n",
    "    \n",
    "    if special_char.search(string) == None:\n",
    "        return \"string is accepted\"\n",
    "    else:\n",
    "        return \"string not accpeted\"\n",
    "s=\"Hello15\"\n",
    "print(s)\n",
    "print(find(s))"
   ]
  },
  {
   "cell_type": "code",
   "execution_count": null,
   "id": "9fcdee2a",
   "metadata": {},
   "outputs": [],
   "source": []
  }
 ],
 "metadata": {
  "kernelspec": {
   "display_name": "Python 3 (ipykernel)",
   "language": "python",
   "name": "python3"
  },
  "language_info": {
   "codemirror_mode": {
    "name": "ipython",
    "version": 3
   },
   "file_extension": ".py",
   "mimetype": "text/x-python",
   "name": "python",
   "nbconvert_exporter": "python",
   "pygments_lexer": "ipython3",
   "version": "3.10.1"
  }
 },
 "nbformat": 4,
 "nbformat_minor": 5
}
