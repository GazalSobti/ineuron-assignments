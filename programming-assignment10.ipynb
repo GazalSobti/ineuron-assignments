{
 "cells": [
  {
   "cell_type": "markdown",
   "id": "a6904e48",
   "metadata": {},
   "source": [
    "#### 1. Write a Python program to find sum of elements in list?"
   ]
  },
  {
   "cell_type": "code",
   "execution_count": 1,
   "id": "a560d083",
   "metadata": {},
   "outputs": [
    {
     "name": "stdout",
     "output_type": "stream",
     "text": [
      "28\n"
     ]
    }
   ],
   "source": [
    "l=[1,2,3,4,5,6,7]\n",
    "print(sum(l))"
   ]
  },
  {
   "cell_type": "markdown",
   "id": "3b0b9cdc",
   "metadata": {},
   "source": [
    "#### 2. Write a Python program to Multiply all numbers in the list?"
   ]
  },
  {
   "cell_type": "code",
   "execution_count": 3,
   "id": "2102a44e",
   "metadata": {},
   "outputs": [
    {
     "name": "stdout",
     "output_type": "stream",
     "text": [
      "120\n"
     ]
    }
   ],
   "source": [
    "l=[1,2,3,4,5]\n",
    "mul=1\n",
    "for i in l:\n",
    "    mul*=i\n",
    "print(mul)    "
   ]
  },
  {
   "cell_type": "markdown",
   "id": "98fa6c4a",
   "metadata": {},
   "source": [
    "#### 3. Write a Python program to find smallest number in a list?"
   ]
  },
  {
   "cell_type": "code",
   "execution_count": 5,
   "id": "ced1178e",
   "metadata": {},
   "outputs": [
    {
     "name": "stdout",
     "output_type": "stream",
     "text": [
      "0\n"
     ]
    }
   ],
   "source": [
    "l=[1,2,3,0,4,5]\n",
    "print(min(l))"
   ]
  },
  {
   "cell_type": "markdown",
   "id": "f43de071",
   "metadata": {},
   "source": [
    "#### 4. Write a Python program to find largest number in a list?"
   ]
  },
  {
   "cell_type": "code",
   "execution_count": 6,
   "id": "e160467d",
   "metadata": {},
   "outputs": [
    {
     "name": "stdout",
     "output_type": "stream",
     "text": [
      "5\n"
     ]
    }
   ],
   "source": [
    "l=[1,2,3,0,4,5]\n",
    "print(max(l))"
   ]
  },
  {
   "cell_type": "markdown",
   "id": "7a4273ac",
   "metadata": {},
   "source": [
    "#### 5. Write a Python program to find second largest number in a list?"
   ]
  },
  {
   "cell_type": "code",
   "execution_count": 12,
   "id": "d6566b4a",
   "metadata": {},
   "outputs": [
    {
     "name": "stdout",
     "output_type": "stream",
     "text": [
      "80\n",
      "[30, 50, 90, 40, 60, 80]\n"
     ]
    }
   ],
   "source": [
    "num_list = [30, 50, 90, 40, 60, 80]\n",
    "result = sorted(num_list)[-2]\n",
    "print(result)\n",
    "print(num_list)"
   ]
  },
  {
   "cell_type": "markdown",
   "id": "6f25d1e9",
   "metadata": {},
   "source": [
    "#### 6. Write a Python program to find N largest elements from a list?"
   ]
  },
  {
   "cell_type": "code",
   "execution_count": 14,
   "id": "8d45b963",
   "metadata": {},
   "outputs": [
    {
     "name": "stdout",
     "output_type": "stream",
     "text": [
      "3\n",
      "60\n",
      "[30, 50, 90, 40, 60, 80]\n"
     ]
    }
   ],
   "source": [
    "num_list = [30, 50, 90, 40, 60, 80]\n",
    "n=int(input())\n",
    "result = sorted(num_list)[-n]\n",
    "print(result)\n",
    "print(num_list)"
   ]
  },
  {
   "cell_type": "markdown",
   "id": "577dbc8c",
   "metadata": {},
   "source": [
    "#### 7. Write a Python program to print even numbers in a list?"
   ]
  },
  {
   "cell_type": "code",
   "execution_count": 1,
   "id": "18b67ed2",
   "metadata": {},
   "outputs": [
    {
     "name": "stdout",
     "output_type": "stream",
     "text": [
      "2\n",
      "6\n",
      "4\n"
     ]
    }
   ],
   "source": [
    "l = [2, 3, 6, 7, 4, 5]\n",
    "for i in l:\n",
    "    if i%2==0:\n",
    "        print(i)"
   ]
  },
  {
   "cell_type": "markdown",
   "id": "21c4f55c",
   "metadata": {},
   "source": [
    "#### 8. Write a Python program to print odd numbers in a list?"
   ]
  },
  {
   "cell_type": "code",
   "execution_count": 2,
   "id": "1341f09c",
   "metadata": {},
   "outputs": [
    {
     "name": "stdout",
     "output_type": "stream",
     "text": [
      "3\n",
      "7\n",
      "5\n"
     ]
    }
   ],
   "source": [
    "l = [2, 3, 6, 7, 4, 5]\n",
    "for i in l:\n",
    "    if i%2!=0:\n",
    "        print(i)"
   ]
  },
  {
   "cell_type": "markdown",
   "id": "26212fe9",
   "metadata": {},
   "source": [
    "#### 9. Write a Python program to Remove empty List from List?"
   ]
  },
  {
   "cell_type": "code",
   "execution_count": 3,
   "id": "ed2861d2",
   "metadata": {},
   "outputs": [
    {
     "name": "stdout",
     "output_type": "stream",
     "text": [
      "[[1, 2, 3], 1, 2, 3]\n"
     ]
    }
   ],
   "source": [
    "l=[[],[1,2,3],1,2,3,[]]\n",
    "for i in l:\n",
    "    if type(i)==list:\n",
    "        if len(i)==0:\n",
    "            l.remove(i)\n",
    "print(l)            "
   ]
  },
  {
   "cell_type": "markdown",
   "id": "a889c8ac",
   "metadata": {},
   "source": [
    "#### 10. Write a Python program to Cloning or Copying a list?"
   ]
  },
  {
   "cell_type": "code",
   "execution_count": 4,
   "id": "53aa921e",
   "metadata": {},
   "outputs": [
    {
     "name": "stdout",
     "output_type": "stream",
     "text": [
      "[2, 3, 6, 7, 4, 5]\n"
     ]
    }
   ],
   "source": [
    "l = [2, 3, 6, 7, 4, 5]\n",
    "k=[]\n",
    "k=l\n",
    "print(k)"
   ]
  },
  {
   "cell_type": "markdown",
   "id": "951f4e17",
   "metadata": {},
   "source": [
    "#### 11. Write a Python program to Count occurrences of an element in a list?"
   ]
  },
  {
   "cell_type": "code",
   "execution_count": 16,
   "id": "59b5d744",
   "metadata": {},
   "outputs": [
    {
     "name": "stdout",
     "output_type": "stream",
     "text": [
      "2 3\n",
      "3 1\n",
      "5 2\n"
     ]
    }
   ],
   "source": [
    "l = [2, 3, 2, 5, 2, 5]\n",
    "t=set(l)\n",
    "for i in t:\n",
    "    print(i,l.count(i))"
   ]
  }
 ],
 "metadata": {
  "kernelspec": {
   "display_name": "Python 3 (ipykernel)",
   "language": "python",
   "name": "python3"
  },
  "language_info": {
   "codemirror_mode": {
    "name": "ipython",
    "version": 3
   },
   "file_extension": ".py",
   "mimetype": "text/x-python",
   "name": "python",
   "nbconvert_exporter": "python",
   "pygments_lexer": "ipython3",
   "version": "3.10.1"
  }
 },
 "nbformat": 4,
 "nbformat_minor": 5
}
