{
 "cells": [
  {
   "cell_type": "markdown",
   "id": "bcbc7cdf",
   "metadata": {},
   "source": [
    "1. In the below elements which of them are values or an expression? eg:- values can be\n",
    "integer or string and expressions will be mathematical operators.\n",
    "*\n",
    "'hello'\n",
    "-87.8\n",
    "-\n",
    "/\n",
    "+\n",
    "6"
   ]
  },
  {
   "cell_type": "raw",
   "id": "6ae4e289",
   "metadata": {},
   "source": [
    "*                      - expression\n",
    "'hello'                - value\n",
    "-87.8                  - value\n",
    "-                      - expression\n",
    "/                      - expression\n",
    "+                      - expression\n",
    "6                      - value"
   ]
  },
  {
   "cell_type": "raw",
   "id": "aae8cd59",
   "metadata": {},
   "source": [
    "2. What is the difference between string and variable?\n",
    "\n",
    "variable as an identifier (or some kind of means) to store a value in a memory location and to manipulate\n",
    "it if needed.\n",
    "\n",
    "Anything you assign to a variable using quotes (single or double) will be considered as a string. \n",
    "Thus, a string is one of several types of a variable.\n",
    "\n",
    "x = '10' \n",
    "y = '20'\n",
    "x,y are variables......'10','20' are strings\n"
   ]
  },
  {
   "cell_type": "raw",
   "id": "92aa45d7",
   "metadata": {},
   "source": [
    "3. Describe three different data types.\n",
    "\n",
    "String is sequence of Unicode characters. We can use single quotes or double quotes to represent strings. \n",
    "Multi-line strings can be denoted using triple quotes, ''' or \"\"\".\n",
    "a=\"gazal\"\n",
    "\n",
    "List is an ordered sequence of items. \n",
    "All the items in a list do not need to be of the same type.\n",
    "Items separated by commas are enclosed within brackets [ ].\n",
    "l=[5,8,\"abc\"]\n",
    "\n",
    "Tuple is an ordered sequence of items same as a list. The only difference is that tuples are immutable. Tuples once created cannot be modified.\n",
    "It is defined within parentheses () where items are separated by commas.\n",
    "t=(5,6,\"abc\")\n"
   ]
  },
  {
   "cell_type": "raw",
   "id": "ee6428f4",
   "metadata": {},
   "source": [
    "4. What is an expression made up of? What do all expressions do?\n",
    "\n",
    "Expression is made up of values, containers, and mathematical operators (operands) e.g \n",
    " a = 2 + 3  and expressions are used to evaluate the values or represent the result on the screen."
   ]
  },
  {
   "cell_type": "raw",
   "id": "39c45fc8",
   "metadata": {},
   "source": [
    "5. This assignment statements, like spam = 10. What is the difference between an\n",
    "expression and a statement?\n",
    "\n",
    "Expression is made up of values, containers, and mathematical operators (operands) and \n",
    "the statement is just like a command that a python interpreter executes like print."
   ]
  },
  {
   "cell_type": "raw",
   "id": "a9600cc2",
   "metadata": {},
   "source": [
    "6. After running the following code, what does the variable bacon contain?\n",
    "bacon = 22\n",
    "bacon + 1\n",
    "\n",
    "bacon will contain 22\n",
    "but the result will be 23"
   ]
  },
  {
   "cell_type": "raw",
   "id": "7fc7a0bd",
   "metadata": {},
   "source": [
    "7.What should the values of the following two terms be?\n",
    "'spam' + 'spamspam' \n",
    "'spam' * 3\n",
    "\n",
    "it will be same"
   ]
  },
  {
   "cell_type": "raw",
   "id": "1a3ddb2f",
   "metadata": {},
   "source": [
    "8. Why is eggs a valid variable name while 100 is invalid?\n",
    "\n",
    "because we can't start giving variable an integer name. \n",
    "we should begin with, a string-like alphabet name then integer. e100 or eggs100 is valid"
   ]
  },
  {
   "cell_type": "raw",
   "id": "2b1c4f80",
   "metadata": {},
   "source": [
    "9. What three functions can be used to get the integer, floating-point number, or string\n",
    "version of a value?\n",
    "\n",
    "str(), int(), float()"
   ]
  },
  {
   "cell_type": "raw",
   "id": "96887870",
   "metadata": {},
   "source": [
    "10. Why does this expression cause an error? How can you fix it?\n",
    "'I have eaten' + 99 + 'burritos' \n",
    "\n",
    "because 99 is an integer it cannot be concatenated with strings, \n",
    "if we have to concatenate it we need to do typecasting.\n",
    "str(99)"
   ]
  },
  {
   "cell_type": "code",
   "execution_count": 1,
   "id": "8dbcff5f",
   "metadata": {},
   "outputs": [
    {
     "data": {
      "text/plain": [
       "'I have eaten99burritos'"
      ]
     },
     "execution_count": 1,
     "metadata": {},
     "output_type": "execute_result"
    }
   ],
   "source": [
    "'I have eaten' + str(99) + 'burritos' "
   ]
  },
  {
   "cell_type": "code",
   "execution_count": null,
   "id": "623335ea",
   "metadata": {},
   "outputs": [],
   "source": []
  },
  {
   "cell_type": "code",
   "execution_count": null,
   "id": "f179b846",
   "metadata": {},
   "outputs": [],
   "source": []
  },
  {
   "cell_type": "code",
   "execution_count": null,
   "id": "d3d96ea9",
   "metadata": {},
   "outputs": [],
   "source": []
  },
  {
   "cell_type": "raw",
   "id": "725f464a",
   "metadata": {},
   "source": []
  }
 ],
 "metadata": {
  "kernelspec": {
   "display_name": "Python 3 (ipykernel)",
   "language": "python",
   "name": "python3"
  },
  "language_info": {
   "codemirror_mode": {
    "name": "ipython",
    "version": 3
   },
   "file_extension": ".py",
   "mimetype": "text/x-python",
   "name": "python",
   "nbconvert_exporter": "python",
   "pygments_lexer": "ipython3",
   "version": "3.10.1"
  }
 },
 "nbformat": 4,
 "nbformat_minor": 5
}
